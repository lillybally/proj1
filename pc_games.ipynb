#Применим к столбцам функцию str.lower()

df.columns = df.columns.str.lower()
Проверим изменения

#Применим head()

df.head()

#Применим sum() и зададим ось суммирования

df['total_sales'] = df[['na_sales', 'eu_sales', 'jp_sales', 'other_sales']].sum(axis = 1)
